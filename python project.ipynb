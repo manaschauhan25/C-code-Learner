{
 "cells": [
  {
   "cell_type": "code",
   "execution_count": 14,
   "metadata": {},
   "outputs": [],
   "source": [
    "from tkinter import *\n",
    "print(\"INSTRUCTIONS::make sure use lower case letter ## use a,b,c for input and i,j for  for loop and n for range,use input keyword for input,use print for printing number#### can generate armstrong,fibonachi,factorial,even###### \")\n",
    "root=Tk()\n",
    "def retrieve_input():\n",
    "    k=textBox.get(\"1.0\",\"end-1c\")\n",
    "    inp=str(k)\n",
    "    facta=open(\"factalgo.txt\",\"r\")\n",
    "    factc=open(\"factcode.txt\",\"r\")\n",
    "    factra=open(\"factralgo.txt\",\"r\")\n",
    "    factrc=open(\"factrcode.txt\",\"r\")\n",
    "    arma=open(\"armalgo.txt\",\"r\")\n",
    "    armc=open(\"armcode.txt\",\"r\")\n",
    "    evena=open(\"evenalgo.txt\",\"r\")\n",
    "    evenc=open(\"evencode.txt\",\"r\")\n",
    "    fiboa=open(\"fiboalgo.txt\",\"r\")\n",
    "    fiboc=open(\"fibocode.txt\",\"r\")\n",
    "    fibora=open(\"fiboralgo.txt\",\"r\")\n",
    "    fiborc=open(\"fibrcode.txt\",\"r\")\n",
    "    str1=str(facta.read())\n",
    "    str2=str(factra.read())\n",
    "    str3=str(arma.read())\n",
    "    str4=str(evena.read())\n",
    "    str5=str(fiboa.read())\n",
    "    str6=str(fibora.read())\n",
    "    if inp==str1:\n",
    "        print(factc.read())\n",
    "    elif inp==str2:\n",
    "        print(factrc.read())\n",
    "    elif inp==str3:\n",
    "        print(armc.read())\n",
    "    elif inp==str4:\n",
    "        print(evenc.read())\n",
    "    elif inp==str5:\n",
    "        print(fiboc.read())\n",
    "    elif inp==str6:\n",
    "        print(fiborc.read())\n",
    "    else:\n",
    "        print(\"Make sure read instructions carefully or improve your algorithim\")\n",
    "\n",
    "root.title(\"Algo maker\")\n",
    "textBox=Text(root, height=20, width=50)\n",
    "textBox.pack()\n",
    "buttonCommit=Button(root, height=1, width=10, text=\"GET CODE\", command=lambda: retrieve_input())\n",
    "buttonCommit.pack()\n",
    "\n",
    "\n",
    "mainloop()"
   ]
  },
  {
   "cell_type": "code",
   "execution_count": 54,
   "metadata": {},
   "outputs": [],
   "source": []
  },
  {
   "cell_type": "code",
   "execution_count": null,
   "metadata": {},
   "outputs": [],
   "source": []
  }
 ],
 "metadata": {
  "kernelspec": {
   "display_name": "Python 3",
   "language": "python",
   "name": "python3"
  },
  "language_info": {
   "codemirror_mode": {
    "name": "ipython",
    "version": 3
   },
   "file_extension": ".py",
   "mimetype": "text/x-python",
   "name": "python",
   "nbconvert_exporter": "python",
   "pygments_lexer": "ipython3",
   "version": "3.7.1"
  }
 },
 "nbformat": 4,
 "nbformat_minor": 2
}
